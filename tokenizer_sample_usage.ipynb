{
 "cells": [
  {
   "cell_type": "markdown",
   "metadata": {},
   "source": [
    "# tokenizer demo (RPN)"
   ]
  },
  {
   "cell_type": "code",
   "execution_count": 1,
   "metadata": {},
   "outputs": [],
   "source": [
    "from tokenizer import *"
   ]
  },
  {
   "cell_type": "code",
   "execution_count": 2,
   "metadata": {},
   "outputs": [],
   "source": [
    "# TODO: shunting_yard tolerant to spaces before '='"
   ]
  },
  {
   "cell_type": "code",
   "execution_count": 3,
   "metadata": {},
   "outputs": [],
   "source": [
    "# example 1\n",
    "frml = '''= IF( $D21=Blank, Zero,\n",
    "          ( INT( INDEX( TicketTypes_MOIRAheader, MATCH( $I21, TicketTypes_code, Zero ) ) = iTT1_RevShare!$G$12 ) * (\n",
    "                    SUMIFS( iTT1_RevShare!$I:$I, INDEX( cFlowLookup!$D:$W, Zero, MATCH( P$17, cFlowLookup!$D$19:$W$19, Zero ) ), $F21 )\n",
    "                    + SUMIFS( cTOCchoice_summary_diff!$J:$J, cTOCchoice_summary_diff!$C:$C, INDEX( Flows, $F21 ), cTOCchoice_summary_diff!$B:$B, P$6 ) * TOCchoice_switch )\n",
    "             + INT( INDEX( TicketTypes_MOIRAheader, MATCH( $I21, TicketTypes_code, Zero ) ) = iTT1_RevShare!$J$12 ) * (\n",
    "                    SUMIFS( iTT1_RevShare!$L:$L, INDEX( cFlowLookup!$D:$W, Zero, MATCH( P$17, cFlowLookup!$D$19:$W$19, Zero ) ), $F21 )\n",
    "                    + SUMIFS( cTOCchoice_summary_diff!$M:$M, cTOCchoice_summary_diff!$C:$C, INDEX( Flows, $F21 ), cTOCchoice_summary_diff!$B:$B, P$6 ) * TOCchoice_switch )\n",
    "             + INT( INDEX( TicketTypes_MOIRAheader, MATCH( $I21, TicketTypes_code, Zero ) ) = iTT1_RevShare!$M$12 ) * (\n",
    "                    SUMIFS( iTT1_RevShare!$O:$O, INDEX( cFlowLookup!$D:$W, Zero, MATCH( P$17, cFlowLookup!$D$19:$W$19, Zero ) ), $F21 )\n",
    "                    + SUMIFS( cTOCchoice_summary_diff!$P:$P, cTOCchoice_summary_diff!$C:$C, INDEX( Flows, $F21 ), cTOCchoice_summary_diff!$B:$B, P$6 ) * TOCchoice_switch ) )\n",
    "          * $L21 )\n",
    "'''"
   ]
  },
  {
   "cell_type": "code",
   "execution_count": 4,
   "metadata": {},
   "outputs": [],
   "source": [
    "# example 2\n",
    "frml = '''= IF( P$7 = \"\", \"\", TRUNC( P19 ) = TRUNC( P$15 ))\n",
    "'''"
   ]
  },
  {
   "cell_type": "code",
   "execution_count": 5,
   "metadata": {},
   "outputs": [],
   "source": [
    "rpn = shunting_yard(frml)"
   ]
  },
  {
   "cell_type": "code",
   "execution_count": 6,
   "metadata": {
    "scrolled": false
   },
   "outputs": [
    {
     "name": "stdout",
     "output_type": "stream",
     "text": [
      "<tokenizer.RangeNode object at 0x000000000550EFD0> \t P$7\n",
      "<tokenizer.ASTNode object at 0x0000000005705048> \t \n",
      "<tokenizer.ASTNode object at 0x0000000005705080> \t =\n",
      "<tokenizer.ASTNode object at 0x00000000057050B8> \t \n",
      "<tokenizer.RangeNode object at 0x00000000057050F0> \t P19\n",
      "<tokenizer.FunctionNode object at 0x0000000005705128> \t TRUNC\n",
      "<tokenizer.RangeNode object at 0x0000000005705160> \t P$15\n",
      "<tokenizer.FunctionNode object at 0x0000000005705198> \t TRUNC\n",
      "<tokenizer.ASTNode object at 0x00000000057051D0> \t =\n",
      "<tokenizer.FunctionNode object at 0x0000000005705208> \t IF\n",
      "<tokenizer.RangeNode object at 0x0000000005705240> \t \n",
      "\n"
     ]
    }
   ],
   "source": [
    "for tk in rpn:\n",
    "    print(tk.__repr__(), '\\t', tk)"
   ]
  },
  {
   "cell_type": "markdown",
   "metadata": {},
   "source": [
    "# To AST"
   ]
  },
  {
   "cell_type": "code",
   "execution_count": 7,
   "metadata": {},
   "outputs": [],
   "source": [
    "def rpn_to_ast(rpn):\n",
    "    '''Turns a deque in RPN order to AST\n",
    "    src: https://stackoverflow.com/a/12929794/2802352'''\n",
    "    stack = []\n",
    "    for n in rpn:\n",
    "        num_args = (2 if n.token.ttype == \"operator-infix\" else\n",
    "                    1 if n.token.ttype.startswith('operator') else\n",
    "                    n.num_args if n.token.ttype == 'function' else 0)\n",
    "        n.args = [stack.pop() for _ in range(num_args)][::-1]\n",
    "        stack.append(n)\n",
    "    return stack[0]"
   ]
  },
  {
   "cell_type": "code",
   "execution_count": 8,
   "metadata": {},
   "outputs": [],
   "source": [
    "def walk(ast):\n",
    "    '''src: https://stackoverflow.com/a/12929794/2802352'''\n",
    "    yield ast\n",
    "    for arg in getattr(ast, 'args', []):\n",
    "        for node in walk(arg):\n",
    "            yield node"
   ]
  },
  {
   "cell_type": "code",
   "execution_count": 9,
   "metadata": {},
   "outputs": [],
   "source": [
    "ast = list(walk(rpn_to_ast(rpn)))"
   ]
  },
  {
   "cell_type": "code",
   "execution_count": 10,
   "metadata": {
    "scrolled": true
   },
   "outputs": [
    {
     "name": "stdout",
     "output_type": "stream",
     "text": [
      "<tokenizer.FunctionNode object at 0x0000000005705208> \t IF \t function \t \n",
      "<tokenizer.ASTNode object at 0x0000000005705080> \t = \t operator-infix \t logical\n",
      "<tokenizer.RangeNode object at 0x000000000550EFD0> \t P$7 \t operand \t range\n",
      "<tokenizer.ASTNode object at 0x0000000005705048> \t  \t operand \t text\n",
      "<tokenizer.ASTNode object at 0x00000000057050B8> \t  \t operand \t text\n",
      "<tokenizer.ASTNode object at 0x00000000057051D0> \t = \t operator-infix \t logical\n",
      "<tokenizer.FunctionNode object at 0x0000000005705128> \t TRUNC \t function \t \n",
      "<tokenizer.RangeNode object at 0x00000000057050F0> \t P19 \t operand \t range\n",
      "<tokenizer.FunctionNode object at 0x0000000005705198> \t TRUNC \t function \t \n",
      "<tokenizer.RangeNode object at 0x0000000005705160> \t P$15 \t operand \t range\n"
     ]
    }
   ],
   "source": [
    "for tk in ast:\n",
    "    print(tk.__repr__(), '\\t', tk.token.tvalue, '\\t', tk.token.ttype, '\\t', tk.token.tsubtype)"
   ]
  },
  {
   "cell_type": "markdown",
   "metadata": {},
   "source": [
    "# Formula formatting"
   ]
  },
  {
   "cell_type": "code",
   "execution_count": 11,
   "metadata": {},
   "outputs": [],
   "source": [
    "def pretty_print(expression):\n",
    "    '''Outputs a formula tree in RPN in a  nice format.'''\n",
    "    \n",
    "    otxt = ''\n",
    "    lvl = 0\n",
    "    prevn = None\n",
    "    \n",
    "    p = ExcelParser();\n",
    "    p.parse(expression)\n",
    "\n",
    "    # insert tokens for '(' and ')', to make things cleaner below\n",
    "    tokens = []\n",
    "    for t in p.tokens.items:\n",
    "        \n",
    "        if t.ttype == \"function\" and t.tsubtype == \"start\":\n",
    "            t.tsubtype = \"\"\n",
    "            tokens.append(t)\n",
    "            tokens.append(f_token('(','arglist','start'))\n",
    "            \n",
    "        elif t.ttype == \"function\" and t.tsubtype == \"stop\":\n",
    "            tokens.append(f_token(')','arglist','stop'))\n",
    "            \n",
    "        elif t.ttype == \"subexpression\" and t.tsubtype == \"start\":\n",
    "            t.tvalue = '('\n",
    "            tokens.append(t)\n",
    "            \n",
    "        elif t.ttype == \"subexpression\" and t.tsubtype == \"stop\":\n",
    "            t.tvalue = ')'\n",
    "            tokens.append(t)\n",
    "            \n",
    "        else:\n",
    "            tokens.append(t)\n",
    "    \n",
    "    for tk in tokens:\n",
    "        \n",
    "        if tk.tsubtype == 'text':\n",
    "            otxt += '\"'\n",
    "        \n",
    "        otxt += str(tk.tvalue)\n",
    "        \n",
    "        if tk.tsubtype == 'text':\n",
    "            otxt += '\"'\n",
    "        \n",
    "        if tk.tvalue == '(':\n",
    "            lvl += 1\n",
    "        \n",
    "        elif tk.tvalue == ',':\n",
    "            otxt += '\\n' + ' ' * 4 * lvl\n",
    "        \n",
    "        elif tk.tvalue == ')':\n",
    "            lvl -= 1\n",
    "    \n",
    "    return otxt"
   ]
  },
  {
   "cell_type": "code",
   "execution_count": 12,
   "metadata": {
    "scrolled": true
   },
   "outputs": [
    {
     "data": {
      "text/plain": [
       "'IF(P$7=\"\",\\n    \"\",\\n    TRUNC(P19)=TRUNC(P$15))\\n'"
      ]
     },
     "execution_count": 12,
     "metadata": {},
     "output_type": "execute_result"
    }
   ],
   "source": [
    "pretty_print(frml)"
   ]
  },
  {
   "cell_type": "code",
   "execution_count": 13,
   "metadata": {},
   "outputs": [
    {
     "name": "stdout",
     "output_type": "stream",
     "text": [
      "IF(P$7=\"\",\n",
      "    \"\",\n",
      "    TRUNC(P19)=TRUNC(P$15))\n",
      "\n"
     ]
    }
   ],
   "source": [
    "print(pretty_print(frml))"
   ]
  }
 ],
 "metadata": {
  "kernelspec": {
   "display_name": "Python 3",
   "language": "python",
   "name": "python3"
  },
  "language_info": {
   "codemirror_mode": {
    "name": "ipython",
    "version": 3
   },
   "file_extension": ".py",
   "mimetype": "text/x-python",
   "name": "python",
   "nbconvert_exporter": "python",
   "pygments_lexer": "ipython3",
   "version": "3.6.5"
  }
 },
 "nbformat": 4,
 "nbformat_minor": 2
}
